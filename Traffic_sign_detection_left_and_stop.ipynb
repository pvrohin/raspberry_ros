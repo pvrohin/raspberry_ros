{
  "nbformat": 4,
  "nbformat_minor": 0,
  "metadata": {
    "kernelspec": {
      "name": "python3",
      "display_name": "Python 3"
    },
    "language_info": {
      "codemirror_mode": {
        "name": "ipython",
        "version": 3
      },
      "file_extension": ".py",
      "mimetype": "text/x-python",
      "name": "python",
      "nbconvert_exporter": "python",
      "pygments_lexer": "ipython3",
      "version": "3.6.6"
    },
    "colab": {
      "name": "Traffic_sign_detection_left_and_stop.ipynb",
      "provenance": [],
      "collapsed_sections": [],
      "include_colab_link": true
    },
    "accelerator": "GPU"
  },
  "cells": [
    {
      "cell_type": "markdown",
      "metadata": {
        "id": "view-in-github",
        "colab_type": "text"
      },
      "source": [
        "<a href=\"https://colab.research.google.com/github/pvrohin/raspberry_ros/blob/master/Traffic_sign_detection_left_and_stop.ipynb\" target=\"_parent\"><img src=\"https://colab.research.google.com/assets/colab-badge.svg\" alt=\"Open In Colab\"/></a>"
      ]
    },
    {
      "cell_type": "code",
      "metadata": {
        "id": "yO2q2RyzfmwH",
        "colab_type": "code",
        "colab": {}
      },
      "source": [
        "%matplotlib inline"
      ],
      "execution_count": 0,
      "outputs": []
    },
    {
      "cell_type": "markdown",
      "metadata": {
        "id": "fngGucrAfmwO",
        "colab_type": "text"
      },
      "source": [
        "\n",
        "Transfer Learning Tutorial\n",
        "==========================\n",
        "**Author**: `Sasank Chilamkurthy <https://chsasank.github.io>`_\n",
        "\n",
        "In this tutorial, you will learn how to train your network using\n",
        "transfer learning. You can read more about the transfer learning at `cs231n\n",
        "notes <http://cs231n.github.io/transfer-learning/>`__\n",
        "\n",
        "Quoting these notes,\n",
        "\n",
        "    In practice, very few people train an entire Convolutional Network\n",
        "    from scratch (with random initialization), because it is relatively\n",
        "    rare to have a dataset of sufficient size. Instead, it is common to\n",
        "    pretrain a ConvNet on a very large dataset (e.g. ImageNet, which\n",
        "    contains 1.2 million images with 1000 categories), and then use the\n",
        "    ConvNet either as an initialization or a fixed feature extractor for\n",
        "    the task of interest.\n",
        "\n",
        "These two major transfer learning scenarios look as follows:\n",
        "\n",
        "-  **Finetuning the convnet**: Instead of random initializaion, we\n",
        "   initialize the network with a pretrained network, like the one that is\n",
        "   trained on imagenet 1000 dataset. Rest of the training looks as\n",
        "   usual.\n",
        "-  **ConvNet as fixed feature extractor**: Here, we will freeze the weights\n",
        "   for all of the network except that of the final fully connected\n",
        "   layer. This last fully connected layer is replaced with a new one\n",
        "   with random weights and only this layer is trained.\n",
        "\n",
        "\n"
      ]
    },
    {
      "cell_type": "code",
      "metadata": {
        "id": "wWaHKPqNfmwP",
        "colab_type": "code",
        "colab": {}
      },
      "source": [
        "# License: BSD\n",
        "# Author: Sasank Chilamkurthy\n",
        "\n",
        "from __future__ import print_function, division\n",
        "\n",
        "import torch\n",
        "import torch.nn as nn\n",
        "import torch.optim as optim\n",
        "from torch.optim import lr_scheduler\n",
        "import numpy as np\n",
        "import torchvision\n",
        "from torchvision import datasets, models, transforms\n",
        "import matplotlib.pyplot as plt\n",
        "import time\n",
        "import os\n",
        "import copy\n",
        "\n",
        "plt.ion()   # interactive mode"
      ],
      "execution_count": 0,
      "outputs": []
    },
    {
      "cell_type": "code",
      "metadata": {
        "id": "QXUc4iugD8ej",
        "colab_type": "code",
        "colab": {}
      },
      "source": [
        "!cd sample_data"
      ],
      "execution_count": 0,
      "outputs": []
    },
    {
      "cell_type": "code",
      "metadata": {
        "id": "J8WComR5ECe6",
        "colab_type": "code",
        "colab": {
          "base_uri": "https://localhost:8080/",
          "height": 224
        },
        "outputId": "48eabdeb-eda4-4ad6-ff95-462754db9a4c"
      },
      "source": [
        "!wget https://zssgua.dm.files.1drv.com/y4mzo2ynXqDrGkNNLpd7Si0g3nlyQmGigZPcZiyOiBx0aUgO460jNmE490ZR4io7MN3MK_42skA8FlScidYpGvGM8veCO-me4Vm8dTfZLtSz_PXAuwKlMO7VpIzjXHvDoaW6u0m2vL0Ni4jZWBRg5Ac3NdrP7Q90W6sE_dTfzhQVFzCfhMFHisGou57cCfP5T95S-wpj7xxbgtuICjoehx7kw/GTSRB.zip?download&psid=1"
      ],
      "execution_count": 3,
      "outputs": [
        {
          "output_type": "stream",
          "text": [
            "--2019-12-02 14:44:14--  https://zssgua.dm.files.1drv.com/y4mzo2ynXqDrGkNNLpd7Si0g3nlyQmGigZPcZiyOiBx0aUgO460jNmE490ZR4io7MN3MK_42skA8FlScidYpGvGM8veCO-me4Vm8dTfZLtSz_PXAuwKlMO7VpIzjXHvDoaW6u0m2vL0Ni4jZWBRg5Ac3NdrP7Q90W6sE_dTfzhQVFzCfhMFHisGou57cCfP5T95S-wpj7xxbgtuICjoehx7kw/GTSRB.zip?download\n",
            "Resolving zssgua.dm.files.1drv.com (zssgua.dm.files.1drv.com)... 13.107.42.12\n",
            "Connecting to zssgua.dm.files.1drv.com (zssgua.dm.files.1drv.com)|13.107.42.12|:443... connected.\n",
            "HTTP request sent, awaiting response... 200 OK\n",
            "Length: 364068485 (347M) [application/zip]\n",
            "Saving to: ‘GTSRB.zip?download’\n",
            "\n",
            "GTSRB.zip?download  100%[===================>] 347.20M  21.6MB/s    in 21s     \n",
            "\n",
            "2019-12-02 14:44:36 (16.8 MB/s) - ‘GTSRB.zip?download’ saved [364068485/364068485]\n",
            "\n"
          ],
          "name": "stdout"
        }
      ]
    },
    {
      "cell_type": "code",
      "metadata": {
        "id": "X-nttzuTqAIU",
        "colab_type": "code",
        "outputId": "36b167a0-3d1e-43d9-8983-383a7fa4ded0",
        "colab": {
          "base_uri": "https://localhost:8080/",
          "height": 1000
        }
      },
      "source": [
        "! unzip /content/sample_data/GTSRB_data.zip -d GTRSB_data"
      ],
      "execution_count": 13,
      "outputs": [
        {
          "output_type": "stream",
          "text": [
            "Archive:  /content/sample_data/GTSRB_data.zip\n",
            "   creating: GTRSB_data/GTSRB_data/\n",
            "   creating: GTRSB_data/GTSRB_data/val/\n",
            "   creating: GTRSB_data/GTSRB_data/train/\n",
            "   creating: GTRSB_data/GTSRB_data/val/left_sign/\n",
            "  inflating: GTRSB_data/GTSRB_data/val/left_sign/00002_00029.ppm  \n",
            "  inflating: GTRSB_data/GTSRB_data/val/left_sign/00002_00028.ppm  \n",
            "  inflating: GTRSB_data/GTSRB_data/val/left_sign/00002_00027.ppm  \n",
            "  inflating: GTRSB_data/GTSRB_data/val/left_sign/00002_00026.ppm  \n",
            "  inflating: GTRSB_data/GTSRB_data/val/left_sign/00002_00025.ppm  \n",
            "  inflating: GTRSB_data/GTSRB_data/val/left_sign/00002_00024.ppm  \n",
            "  inflating: GTRSB_data/GTSRB_data/val/left_sign/00002_00023.ppm  \n",
            "  inflating: GTRSB_data/GTSRB_data/val/left_sign/00002_00022.ppm  \n",
            "  inflating: GTRSB_data/GTSRB_data/val/left_sign/00002_00021.ppm  \n",
            "  inflating: GTRSB_data/GTSRB_data/val/left_sign/00002_00020.ppm  \n",
            "  inflating: GTRSB_data/GTSRB_data/val/left_sign/00002_00019.ppm  \n",
            "  inflating: GTRSB_data/GTSRB_data/val/left_sign/00002_00018.ppm  \n",
            "  inflating: GTRSB_data/GTSRB_data/val/left_sign/00002_00017.ppm  \n",
            "  inflating: GTRSB_data/GTSRB_data/val/left_sign/00002_00016.ppm  \n",
            "  inflating: GTRSB_data/GTSRB_data/val/left_sign/00002_00015.ppm  \n",
            "  inflating: GTRSB_data/GTSRB_data/val/left_sign/00002_00014.ppm  \n",
            "  inflating: GTRSB_data/GTSRB_data/val/left_sign/00002_00013.ppm  \n",
            "  inflating: GTRSB_data/GTSRB_data/val/left_sign/00002_00012.ppm  \n",
            "  inflating: GTRSB_data/GTSRB_data/val/left_sign/00002_00011.ppm  \n",
            "  inflating: GTRSB_data/GTSRB_data/val/left_sign/00002_00010.ppm  \n",
            "  inflating: GTRSB_data/GTSRB_data/val/left_sign/00006_00029.ppm  \n",
            "  inflating: GTRSB_data/GTSRB_data/val/left_sign/00006_00028.ppm  \n",
            "  inflating: GTRSB_data/GTSRB_data/val/left_sign/00006_00027.ppm  \n",
            "  inflating: GTRSB_data/GTSRB_data/val/left_sign/00006_00026.ppm  \n",
            "  inflating: GTRSB_data/GTSRB_data/val/left_sign/00006_00025.ppm  \n",
            "  inflating: GTRSB_data/GTSRB_data/val/left_sign/00006_00024.ppm  \n",
            "  inflating: GTRSB_data/GTSRB_data/val/left_sign/00006_00023.ppm  \n",
            "  inflating: GTRSB_data/GTSRB_data/val/left_sign/00006_00022.ppm  \n",
            "  inflating: GTRSB_data/GTSRB_data/val/left_sign/00006_00021.ppm  \n",
            "  inflating: GTRSB_data/GTSRB_data/val/left_sign/00006_00020.ppm  \n",
            "  inflating: GTRSB_data/GTSRB_data/val/left_sign/00006_00019.ppm  \n",
            "  inflating: GTRSB_data/GTSRB_data/val/left_sign/00006_00018.ppm  \n",
            "  inflating: GTRSB_data/GTSRB_data/val/left_sign/00006_00017.ppm  \n",
            "  inflating: GTRSB_data/GTSRB_data/val/left_sign/00006_00016.ppm  \n",
            "  inflating: GTRSB_data/GTSRB_data/val/left_sign/00006_00015.ppm  \n",
            "  inflating: GTRSB_data/GTSRB_data/val/left_sign/00006_00014.ppm  \n",
            "  inflating: GTRSB_data/GTSRB_data/val/left_sign/00006_00013.ppm  \n",
            "  inflating: GTRSB_data/GTSRB_data/val/left_sign/00006_00012.ppm  \n",
            "  inflating: GTRSB_data/GTSRB_data/val/left_sign/00006_00011.ppm  \n",
            "  inflating: GTRSB_data/GTSRB_data/val/left_sign/00006_00010.ppm  \n",
            "  inflating: GTRSB_data/GTSRB_data/val/left_sign/00006_00009.ppm  \n",
            "  inflating: GTRSB_data/GTSRB_data/val/left_sign/00006_00008.ppm  \n",
            "  inflating: GTRSB_data/GTSRB_data/val/left_sign/00006_00007.ppm  \n",
            "  inflating: GTRSB_data/GTSRB_data/val/left_sign/00006_00006.ppm  \n",
            "  inflating: GTRSB_data/GTSRB_data/val/left_sign/00006_00005.ppm  \n",
            "  inflating: GTRSB_data/GTSRB_data/val/left_sign/00006_00004.ppm  \n",
            "  inflating: GTRSB_data/GTSRB_data/val/left_sign/00006_00003.ppm  \n",
            "  inflating: GTRSB_data/GTSRB_data/val/left_sign/00006_00002.ppm  \n",
            "  inflating: GTRSB_data/GTSRB_data/val/left_sign/00006_00001.ppm  \n",
            "  inflating: GTRSB_data/GTSRB_data/val/left_sign/00006_00000.ppm  \n",
            "  inflating: GTRSB_data/GTSRB_data/val/left_sign/00005_00029.ppm  \n",
            "  inflating: GTRSB_data/GTSRB_data/val/left_sign/00005_00028.ppm  \n",
            "  inflating: GTRSB_data/GTSRB_data/val/left_sign/00005_00027.ppm  \n",
            "  inflating: GTRSB_data/GTSRB_data/val/left_sign/00005_00026.ppm  \n",
            "  inflating: GTRSB_data/GTSRB_data/val/left_sign/00005_00025.ppm  \n",
            "  inflating: GTRSB_data/GTSRB_data/val/left_sign/00005_00024.ppm  \n",
            "  inflating: GTRSB_data/GTSRB_data/val/left_sign/00005_00023.ppm  \n",
            "  inflating: GTRSB_data/GTSRB_data/val/left_sign/00005_00022.ppm  \n",
            "  inflating: GTRSB_data/GTSRB_data/val/left_sign/00005_00021.ppm  \n",
            "  inflating: GTRSB_data/GTSRB_data/val/left_sign/00005_00020.ppm  \n",
            "  inflating: GTRSB_data/GTSRB_data/val/left_sign/00005_00019.ppm  \n",
            "  inflating: GTRSB_data/GTSRB_data/val/left_sign/00005_00018.ppm  \n",
            "  inflating: GTRSB_data/GTSRB_data/val/left_sign/00005_00017.ppm  \n",
            "  inflating: GTRSB_data/GTSRB_data/val/left_sign/00005_00016.ppm  \n",
            "  inflating: GTRSB_data/GTSRB_data/val/left_sign/00005_00015.ppm  \n",
            "  inflating: GTRSB_data/GTSRB_data/val/left_sign/00005_00014.ppm  \n",
            "  inflating: GTRSB_data/GTSRB_data/val/left_sign/00005_00013.ppm  \n",
            "  inflating: GTRSB_data/GTSRB_data/val/left_sign/00005_00012.ppm  \n",
            "  inflating: GTRSB_data/GTSRB_data/val/left_sign/00005_00011.ppm  \n",
            "  inflating: GTRSB_data/GTSRB_data/val/left_sign/00005_00010.ppm  \n",
            "  inflating: GTRSB_data/GTSRB_data/val/left_sign/00005_00009.ppm  \n",
            "  inflating: GTRSB_data/GTSRB_data/val/left_sign/00005_00008.ppm  \n",
            "  inflating: GTRSB_data/GTSRB_data/val/left_sign/00005_00007.ppm  \n",
            "  inflating: GTRSB_data/GTSRB_data/val/left_sign/00005_00006.ppm  \n",
            "  inflating: GTRSB_data/GTSRB_data/val/left_sign/00005_00005.ppm  \n",
            "  inflating: GTRSB_data/GTSRB_data/val/left_sign/00005_00004.ppm  \n",
            "  inflating: GTRSB_data/GTSRB_data/val/left_sign/00005_00003.ppm  \n",
            "  inflating: GTRSB_data/GTSRB_data/val/left_sign/00005_00002.ppm  \n",
            "  inflating: GTRSB_data/GTSRB_data/val/left_sign/00005_00001.ppm  \n",
            "  inflating: GTRSB_data/GTSRB_data/val/left_sign/00005_00000.ppm  \n",
            "   creating: GTRSB_data/GTSRB_data/val/stop_sign/\n",
            "  inflating: GTRSB_data/GTSRB_data/val/stop_sign/00006_00019.ppm  \n",
            "  inflating: GTRSB_data/GTSRB_data/val/stop_sign/00006_00018.ppm  \n",
            "  inflating: GTRSB_data/GTSRB_data/val/stop_sign/00006_00017.ppm  \n",
            "  inflating: GTRSB_data/GTSRB_data/val/stop_sign/00006_00016.ppm  \n",
            "  inflating: GTRSB_data/GTSRB_data/val/stop_sign/00006_00015.ppm  \n",
            "  inflating: GTRSB_data/GTSRB_data/val/stop_sign/00006_00014.ppm  \n",
            "  inflating: GTRSB_data/GTSRB_data/val/stop_sign/00006_00013.ppm  \n",
            "  inflating: GTRSB_data/GTSRB_data/val/stop_sign/00006_00012.ppm  \n",
            "  inflating: GTRSB_data/GTSRB_data/val/stop_sign/00006_00011.ppm  \n",
            "  inflating: GTRSB_data/GTSRB_data/val/stop_sign/00006_00010.ppm  \n",
            "  inflating: GTRSB_data/GTSRB_data/val/stop_sign/00006_00009.ppm  \n",
            "  inflating: GTRSB_data/GTSRB_data/val/stop_sign/00006_00008.ppm  \n",
            "  inflating: GTRSB_data/GTSRB_data/val/stop_sign/00006_00007.ppm  \n",
            "  inflating: GTRSB_data/GTSRB_data/val/stop_sign/00006_00006.ppm  \n",
            "  inflating: GTRSB_data/GTSRB_data/val/stop_sign/00006_00005.ppm  \n",
            "  inflating: GTRSB_data/GTSRB_data/val/stop_sign/00006_00004.ppm  \n",
            "  inflating: GTRSB_data/GTSRB_data/val/stop_sign/00006_00003.ppm  \n",
            "  inflating: GTRSB_data/GTSRB_data/val/stop_sign/00006_00002.ppm  \n",
            "  inflating: GTRSB_data/GTSRB_data/val/stop_sign/00006_00001.ppm  \n",
            "  inflating: GTRSB_data/GTSRB_data/val/stop_sign/00006_00000.ppm  \n",
            "  inflating: GTRSB_data/GTSRB_data/val/stop_sign/00005_00029.ppm  \n",
            "  inflating: GTRSB_data/GTSRB_data/val/stop_sign/00005_00028.ppm  \n",
            "  inflating: GTRSB_data/GTSRB_data/val/stop_sign/00005_00027.ppm  \n",
            "  inflating: GTRSB_data/GTSRB_data/val/stop_sign/00005_00026.ppm  \n",
            "  inflating: GTRSB_data/GTSRB_data/val/stop_sign/00005_00025.ppm  \n",
            "  inflating: GTRSB_data/GTSRB_data/val/stop_sign/00005_00024.ppm  \n",
            "  inflating: GTRSB_data/GTSRB_data/val/stop_sign/00005_00023.ppm  \n",
            "  inflating: GTRSB_data/GTSRB_data/val/stop_sign/00005_00022.ppm  \n",
            "  inflating: GTRSB_data/GTSRB_data/val/stop_sign/00005_00021.ppm  \n",
            "  inflating: GTRSB_data/GTSRB_data/val/stop_sign/00005_00020.ppm  \n",
            "  inflating: GTRSB_data/GTSRB_data/val/stop_sign/00005_00019.ppm  \n",
            "  inflating: GTRSB_data/GTSRB_data/val/stop_sign/00005_00018.ppm  \n",
            "  inflating: GTRSB_data/GTSRB_data/val/stop_sign/00005_00017.ppm  \n",
            "  inflating: GTRSB_data/GTSRB_data/val/stop_sign/00005_00016.ppm  \n",
            "  inflating: GTRSB_data/GTSRB_data/val/stop_sign/00005_00015.ppm  \n",
            "  inflating: GTRSB_data/GTSRB_data/val/stop_sign/00005_00014.ppm  \n",
            "  inflating: GTRSB_data/GTSRB_data/val/stop_sign/00005_00013.ppm  \n",
            "  inflating: GTRSB_data/GTSRB_data/val/stop_sign/00005_00012.ppm  \n",
            "  inflating: GTRSB_data/GTSRB_data/val/stop_sign/00005_00011.ppm  \n",
            "  inflating: GTRSB_data/GTSRB_data/val/stop_sign/00005_00010.ppm  \n",
            "  inflating: GTRSB_data/GTSRB_data/val/stop_sign/00005_00009.ppm  \n",
            "  inflating: GTRSB_data/GTSRB_data/val/stop_sign/00005_00008.ppm  \n",
            "  inflating: GTRSB_data/GTSRB_data/val/stop_sign/00005_00007.ppm  \n",
            "  inflating: GTRSB_data/GTSRB_data/val/stop_sign/00005_00006.ppm  \n",
            "  inflating: GTRSB_data/GTSRB_data/val/stop_sign/00005_00005.ppm  \n",
            "  inflating: GTRSB_data/GTSRB_data/val/stop_sign/00005_00004.ppm  \n",
            "  inflating: GTRSB_data/GTSRB_data/val/stop_sign/00005_00003.ppm  \n",
            "  inflating: GTRSB_data/GTSRB_data/val/stop_sign/00005_00002.ppm  \n",
            "  inflating: GTRSB_data/GTSRB_data/val/stop_sign/00005_00001.ppm  \n",
            "  inflating: GTRSB_data/GTSRB_data/val/stop_sign/00005_00000.ppm  \n",
            "  inflating: GTRSB_data/GTSRB_data/val/stop_sign/00004_00029.ppm  \n",
            "  inflating: GTRSB_data/GTSRB_data/val/stop_sign/00004_00028.ppm  \n",
            "  inflating: GTRSB_data/GTSRB_data/val/stop_sign/00004_00027.ppm  \n",
            "  inflating: GTRSB_data/GTSRB_data/val/stop_sign/00004_00026.ppm  \n",
            "  inflating: GTRSB_data/GTSRB_data/val/stop_sign/00004_00025.ppm  \n",
            "  inflating: GTRSB_data/GTSRB_data/val/stop_sign/00004_00024.ppm  \n",
            "  inflating: GTRSB_data/GTSRB_data/val/stop_sign/00004_00023.ppm  \n",
            "  inflating: GTRSB_data/GTSRB_data/val/stop_sign/00004_00022.ppm  \n",
            "  inflating: GTRSB_data/GTSRB_data/val/stop_sign/00004_00021.ppm  \n",
            "  inflating: GTRSB_data/GTSRB_data/val/stop_sign/00004_00020.ppm  \n",
            "  inflating: GTRSB_data/GTSRB_data/val/stop_sign/00004_00019.ppm  \n",
            "  inflating: GTRSB_data/GTSRB_data/val/stop_sign/00004_00018.ppm  \n",
            "  inflating: GTRSB_data/GTSRB_data/val/stop_sign/00004_00017.ppm  \n",
            "  inflating: GTRSB_data/GTSRB_data/val/stop_sign/00004_00016.ppm  \n",
            "  inflating: GTRSB_data/GTSRB_data/val/stop_sign/00004_00015.ppm  \n",
            "  inflating: GTRSB_data/GTSRB_data/val/stop_sign/00004_00014.ppm  \n",
            "  inflating: GTRSB_data/GTSRB_data/val/stop_sign/00004_00013.ppm  \n",
            "  inflating: GTRSB_data/GTSRB_data/val/stop_sign/00004_00012.ppm  \n",
            "  inflating: GTRSB_data/GTSRB_data/val/stop_sign/00004_00011.ppm  \n",
            "  inflating: GTRSB_data/GTSRB_data/val/stop_sign/00004_00010.ppm  \n",
            "   creating: GTRSB_data/GTSRB_data/train/left_sign/\n",
            "  inflating: GTRSB_data/GTSRB_data/train/left_sign/00003_00029.ppm  \n",
            "  inflating: GTRSB_data/GTSRB_data/train/left_sign/00003_00028.ppm  \n",
            "  inflating: GTRSB_data/GTSRB_data/train/left_sign/00003_00027.ppm  \n",
            "  inflating: GTRSB_data/GTSRB_data/train/left_sign/00003_00026.ppm  \n",
            "  inflating: GTRSB_data/GTSRB_data/train/left_sign/00003_00025.ppm  \n",
            "  inflating: GTRSB_data/GTSRB_data/train/left_sign/00003_00024.ppm  \n",
            "  inflating: GTRSB_data/GTSRB_data/train/left_sign/00003_00023.ppm  \n",
            "  inflating: GTRSB_data/GTSRB_data/train/left_sign/00003_00022.ppm  \n",
            "  inflating: GTRSB_data/GTSRB_data/train/left_sign/00003_00021.ppm  \n",
            "  inflating: GTRSB_data/GTSRB_data/train/left_sign/00003_00020.ppm  \n",
            "  inflating: GTRSB_data/GTSRB_data/train/left_sign/00003_00019.ppm  \n",
            "  inflating: GTRSB_data/GTSRB_data/train/left_sign/00003_00018.ppm  \n",
            "  inflating: GTRSB_data/GTSRB_data/train/left_sign/00003_00017.ppm  \n",
            "  inflating: GTRSB_data/GTSRB_data/train/left_sign/00003_00016.ppm  \n",
            "  inflating: GTRSB_data/GTSRB_data/train/left_sign/00003_00015.ppm  \n",
            "  inflating: GTRSB_data/GTSRB_data/train/left_sign/00003_00014.ppm  \n",
            "  inflating: GTRSB_data/GTSRB_data/train/left_sign/00003_00013.ppm  \n",
            "  inflating: GTRSB_data/GTSRB_data/train/left_sign/00003_00012.ppm  \n",
            "  inflating: GTRSB_data/GTSRB_data/train/left_sign/00003_00011.ppm  \n",
            "  inflating: GTRSB_data/GTSRB_data/train/left_sign/00003_00010.ppm  \n",
            "  inflating: GTRSB_data/GTSRB_data/train/left_sign/00003_00009.ppm  \n",
            "  inflating: GTRSB_data/GTSRB_data/train/left_sign/00003_00008.ppm  \n",
            "  inflating: GTRSB_data/GTSRB_data/train/left_sign/00003_00007.ppm  \n",
            "  inflating: GTRSB_data/GTSRB_data/train/left_sign/00003_00006.ppm  \n",
            "  inflating: GTRSB_data/GTSRB_data/train/left_sign/00003_00005.ppm  \n",
            "  inflating: GTRSB_data/GTSRB_data/train/left_sign/00003_00004.ppm  \n",
            "  inflating: GTRSB_data/GTSRB_data/train/left_sign/00003_00003.ppm  \n",
            "  inflating: GTRSB_data/GTSRB_data/train/left_sign/00003_00002.ppm  \n",
            "  inflating: GTRSB_data/GTSRB_data/train/left_sign/00003_00001.ppm  \n",
            "  inflating: GTRSB_data/GTSRB_data/train/left_sign/00003_00000.ppm  \n",
            "  inflating: GTRSB_data/GTSRB_data/train/left_sign/00002_00029.ppm  \n",
            "  inflating: GTRSB_data/GTSRB_data/train/left_sign/00002_00028.ppm  \n",
            "  inflating: GTRSB_data/GTSRB_data/train/left_sign/00002_00027.ppm  \n",
            "  inflating: GTRSB_data/GTSRB_data/train/left_sign/00002_00026.ppm  \n",
            "  inflating: GTRSB_data/GTSRB_data/train/left_sign/00002_00025.ppm  \n",
            "  inflating: GTRSB_data/GTSRB_data/train/left_sign/00002_00024.ppm  \n",
            "  inflating: GTRSB_data/GTSRB_data/train/left_sign/00002_00023.ppm  \n",
            "  inflating: GTRSB_data/GTSRB_data/train/left_sign/00002_00022.ppm  \n",
            "  inflating: GTRSB_data/GTSRB_data/train/left_sign/00002_00021.ppm  \n",
            "  inflating: GTRSB_data/GTSRB_data/train/left_sign/00002_00020.ppm  \n",
            "  inflating: GTRSB_data/GTSRB_data/train/left_sign/00002_00019.ppm  \n",
            "  inflating: GTRSB_data/GTSRB_data/train/left_sign/00002_00018.ppm  \n",
            "  inflating: GTRSB_data/GTSRB_data/train/left_sign/00002_00017.ppm  \n",
            "  inflating: GTRSB_data/GTSRB_data/train/left_sign/00002_00016.ppm  \n",
            "  inflating: GTRSB_data/GTSRB_data/train/left_sign/00002_00015.ppm  \n",
            "  inflating: GTRSB_data/GTSRB_data/train/left_sign/00002_00014.ppm  \n",
            "  inflating: GTRSB_data/GTSRB_data/train/left_sign/00002_00013.ppm  \n",
            "  inflating: GTRSB_data/GTSRB_data/train/left_sign/00002_00012.ppm  \n",
            "  inflating: GTRSB_data/GTSRB_data/train/left_sign/00002_00011.ppm  \n",
            "  inflating: GTRSB_data/GTSRB_data/train/left_sign/00002_00010.ppm  \n",
            "  inflating: GTRSB_data/GTSRB_data/train/left_sign/00002_00009.ppm  \n",
            "  inflating: GTRSB_data/GTSRB_data/train/left_sign/00002_00008.ppm  \n",
            "  inflating: GTRSB_data/GTSRB_data/train/left_sign/00002_00007.ppm  \n",
            "  inflating: GTRSB_data/GTSRB_data/train/left_sign/00002_00006.ppm  \n",
            "  inflating: GTRSB_data/GTSRB_data/train/left_sign/00002_00005.ppm  \n",
            "  inflating: GTRSB_data/GTSRB_data/train/left_sign/00002_00004.ppm  \n",
            "  inflating: GTRSB_data/GTSRB_data/train/left_sign/00002_00003.ppm  \n",
            "  inflating: GTRSB_data/GTSRB_data/train/left_sign/00002_00002.ppm  \n",
            "  inflating: GTRSB_data/GTSRB_data/train/left_sign/00002_00001.ppm  \n",
            "  inflating: GTRSB_data/GTSRB_data/train/left_sign/00002_00000.ppm  \n",
            "  inflating: GTRSB_data/GTSRB_data/train/left_sign/00001_00029.ppm  \n",
            "  inflating: GTRSB_data/GTSRB_data/train/left_sign/00001_00028.ppm  \n",
            "  inflating: GTRSB_data/GTSRB_data/train/left_sign/00001_00027.ppm  \n",
            "  inflating: GTRSB_data/GTSRB_data/train/left_sign/00001_00026.ppm  \n",
            "  inflating: GTRSB_data/GTSRB_data/train/left_sign/00001_00025.ppm  \n",
            "  inflating: GTRSB_data/GTSRB_data/train/left_sign/00001_00024.ppm  \n",
            "  inflating: GTRSB_data/GTSRB_data/train/left_sign/00001_00023.ppm  \n",
            "  inflating: GTRSB_data/GTSRB_data/train/left_sign/00001_00022.ppm  \n",
            "  inflating: GTRSB_data/GTSRB_data/train/left_sign/00001_00021.ppm  \n",
            "  inflating: GTRSB_data/GTSRB_data/train/left_sign/00001_00020.ppm  \n",
            "  inflating: GTRSB_data/GTSRB_data/train/left_sign/00001_00019.ppm  \n",
            "  inflating: GTRSB_data/GTSRB_data/train/left_sign/00001_00018.ppm  \n",
            "  inflating: GTRSB_data/GTSRB_data/train/left_sign/00001_00017.ppm  \n",
            "  inflating: GTRSB_data/GTSRB_data/train/left_sign/00001_00016.ppm  \n",
            "  inflating: GTRSB_data/GTSRB_data/train/left_sign/00001_00015.ppm  \n",
            "  inflating: GTRSB_data/GTSRB_data/train/left_sign/00001_00014.ppm  \n",
            "  inflating: GTRSB_data/GTSRB_data/train/left_sign/00001_00013.ppm  \n",
            "  inflating: GTRSB_data/GTSRB_data/train/left_sign/00001_00012.ppm  \n",
            "  inflating: GTRSB_data/GTSRB_data/train/left_sign/00001_00011.ppm  \n",
            "  inflating: GTRSB_data/GTSRB_data/train/left_sign/00001_00010.ppm  \n",
            "  inflating: GTRSB_data/GTSRB_data/train/left_sign/00001_00009.ppm  \n",
            "  inflating: GTRSB_data/GTSRB_data/train/left_sign/00001_00008.ppm  \n",
            "  inflating: GTRSB_data/GTSRB_data/train/left_sign/00001_00007.ppm  \n",
            "  inflating: GTRSB_data/GTSRB_data/train/left_sign/00001_00006.ppm  \n",
            "  inflating: GTRSB_data/GTSRB_data/train/left_sign/00001_00005.ppm  \n",
            "  inflating: GTRSB_data/GTSRB_data/train/left_sign/00001_00004.ppm  \n",
            "  inflating: GTRSB_data/GTSRB_data/train/left_sign/00001_00003.ppm  \n",
            "  inflating: GTRSB_data/GTSRB_data/train/left_sign/00001_00002.ppm  \n",
            "  inflating: GTRSB_data/GTSRB_data/train/left_sign/00001_00001.ppm  \n",
            "  inflating: GTRSB_data/GTSRB_data/train/left_sign/00001_00000.ppm  \n",
            "  inflating: GTRSB_data/GTSRB_data/train/left_sign/00000_00029.ppm  \n",
            "  inflating: GTRSB_data/GTSRB_data/train/left_sign/00000_00028.ppm  \n",
            "  inflating: GTRSB_data/GTSRB_data/train/left_sign/00000_00027.ppm  \n",
            "  inflating: GTRSB_data/GTSRB_data/train/left_sign/00000_00026.ppm  \n",
            "  inflating: GTRSB_data/GTSRB_data/train/left_sign/00000_00025.ppm  \n",
            "  inflating: GTRSB_data/GTSRB_data/train/left_sign/00000_00024.ppm  \n",
            "  inflating: GTRSB_data/GTSRB_data/train/left_sign/00000_00023.ppm  \n",
            "  inflating: GTRSB_data/GTSRB_data/train/left_sign/00000_00022.ppm  \n",
            "  inflating: GTRSB_data/GTSRB_data/train/left_sign/00000_00021.ppm  \n",
            "  inflating: GTRSB_data/GTSRB_data/train/left_sign/00000_00020.ppm  \n",
            "  inflating: GTRSB_data/GTSRB_data/train/left_sign/00000_00019.ppm  \n",
            "  inflating: GTRSB_data/GTSRB_data/train/left_sign/00000_00018.ppm  \n",
            "  inflating: GTRSB_data/GTSRB_data/train/left_sign/00000_00017.ppm  \n",
            "  inflating: GTRSB_data/GTSRB_data/train/left_sign/00000_00016.ppm  \n",
            "  inflating: GTRSB_data/GTSRB_data/train/left_sign/00000_00015.ppm  \n",
            "  inflating: GTRSB_data/GTSRB_data/train/left_sign/00000_00014.ppm  \n",
            "  inflating: GTRSB_data/GTSRB_data/train/left_sign/00000_00013.ppm  \n",
            "  inflating: GTRSB_data/GTSRB_data/train/left_sign/00000_00012.ppm  \n",
            "  inflating: GTRSB_data/GTSRB_data/train/left_sign/00000_00011.ppm  \n",
            "  inflating: GTRSB_data/GTSRB_data/train/left_sign/00000_00010.ppm  \n",
            "  inflating: GTRSB_data/GTSRB_data/train/left_sign/00000_00009.ppm  \n",
            "  inflating: GTRSB_data/GTSRB_data/train/left_sign/00000_00008.ppm  \n",
            "  inflating: GTRSB_data/GTSRB_data/train/left_sign/00000_00007.ppm  \n",
            "  inflating: GTRSB_data/GTSRB_data/train/left_sign/00000_00006.ppm  \n",
            "  inflating: GTRSB_data/GTSRB_data/train/left_sign/00000_00005.ppm  \n",
            "  inflating: GTRSB_data/GTSRB_data/train/left_sign/00000_00004.ppm  \n",
            "  inflating: GTRSB_data/GTSRB_data/train/left_sign/00000_00003.ppm  \n",
            "  inflating: GTRSB_data/GTSRB_data/train/left_sign/00000_00002.ppm  \n",
            "  inflating: GTRSB_data/GTSRB_data/train/left_sign/00000_00001.ppm  \n",
            "  inflating: GTRSB_data/GTSRB_data/train/left_sign/00000_00000.ppm  \n",
            "   creating: GTRSB_data/GTSRB_data/train/stop_sign/\n",
            "  inflating: GTRSB_data/GTSRB_data/train/stop_sign/00004_00003.ppm  \n",
            "  inflating: GTRSB_data/GTSRB_data/train/stop_sign/00004_00002.ppm  \n",
            "  inflating: GTRSB_data/GTSRB_data/train/stop_sign/00004_00001.ppm  \n",
            "  inflating: GTRSB_data/GTSRB_data/train/stop_sign/00004_00000.ppm  \n",
            "  inflating: GTRSB_data/GTSRB_data/train/stop_sign/00003_00029.ppm  \n",
            "  inflating: GTRSB_data/GTSRB_data/train/stop_sign/00003_00028.ppm  \n",
            "  inflating: GTRSB_data/GTSRB_data/train/stop_sign/00003_00027.ppm  \n",
            "  inflating: GTRSB_data/GTSRB_data/train/stop_sign/00003_00026.ppm  \n",
            "  inflating: GTRSB_data/GTSRB_data/train/stop_sign/00003_00025.ppm  \n",
            "  inflating: GTRSB_data/GTSRB_data/train/stop_sign/00003_00024.ppm  \n",
            "  inflating: GTRSB_data/GTSRB_data/train/stop_sign/00003_00023.ppm  \n",
            "  inflating: GTRSB_data/GTSRB_data/train/stop_sign/00003_00022.ppm  \n",
            "  inflating: GTRSB_data/GTSRB_data/train/stop_sign/00003_00021.ppm  \n",
            "  inflating: GTRSB_data/GTSRB_data/train/stop_sign/00003_00020.ppm  \n",
            "  inflating: GTRSB_data/GTSRB_data/train/stop_sign/00003_00019.ppm  \n",
            "  inflating: GTRSB_data/GTSRB_data/train/stop_sign/00003_00018.ppm  \n",
            "  inflating: GTRSB_data/GTSRB_data/train/stop_sign/00003_00017.ppm  \n",
            "  inflating: GTRSB_data/GTSRB_data/train/stop_sign/00003_00016.ppm  \n",
            "  inflating: GTRSB_data/GTSRB_data/train/stop_sign/00003_00015.ppm  \n",
            "  inflating: GTRSB_data/GTSRB_data/train/stop_sign/00003_00014.ppm  \n",
            "  inflating: GTRSB_data/GTSRB_data/train/stop_sign/00003_00013.ppm  \n",
            "  inflating: GTRSB_data/GTSRB_data/train/stop_sign/00003_00012.ppm  \n",
            "  inflating: GTRSB_data/GTSRB_data/train/stop_sign/00003_00011.ppm  \n",
            "  inflating: GTRSB_data/GTSRB_data/train/stop_sign/00003_00010.ppm  \n",
            "  inflating: GTRSB_data/GTSRB_data/train/stop_sign/00003_00009.ppm  \n",
            "  inflating: GTRSB_data/GTSRB_data/train/stop_sign/00003_00008.ppm  \n",
            "  inflating: GTRSB_data/GTSRB_data/train/stop_sign/00003_00007.ppm  \n",
            "  inflating: GTRSB_data/GTSRB_data/train/stop_sign/00003_00006.ppm  \n",
            "  inflating: GTRSB_data/GTSRB_data/train/stop_sign/00003_00005.ppm  \n",
            "  inflating: GTRSB_data/GTSRB_data/train/stop_sign/00003_00004.ppm  \n",
            "  inflating: GTRSB_data/GTSRB_data/train/stop_sign/00003_00003.ppm  \n",
            "  inflating: GTRSB_data/GTSRB_data/train/stop_sign/00003_00002.ppm  \n",
            "  inflating: GTRSB_data/GTSRB_data/train/stop_sign/00003_00001.ppm  \n",
            "  inflating: GTRSB_data/GTSRB_data/train/stop_sign/00003_00000.ppm  \n",
            "  inflating: GTRSB_data/GTSRB_data/train/stop_sign/00002_00029.ppm  \n",
            "  inflating: GTRSB_data/GTSRB_data/train/stop_sign/00002_00028.ppm  \n",
            "  inflating: GTRSB_data/GTSRB_data/train/stop_sign/00002_00027.ppm  \n",
            "  inflating: GTRSB_data/GTSRB_data/train/stop_sign/00002_00026.ppm  \n",
            "  inflating: GTRSB_data/GTSRB_data/train/stop_sign/00002_00025.ppm  \n",
            "  inflating: GTRSB_data/GTSRB_data/train/stop_sign/00002_00024.ppm  \n",
            "  inflating: GTRSB_data/GTSRB_data/train/stop_sign/00002_00023.ppm  \n",
            "  inflating: GTRSB_data/GTSRB_data/train/stop_sign/00002_00022.ppm  \n",
            "  inflating: GTRSB_data/GTSRB_data/train/stop_sign/00002_00021.ppm  \n",
            "  inflating: GTRSB_data/GTSRB_data/train/stop_sign/00002_00020.ppm  \n",
            "  inflating: GTRSB_data/GTSRB_data/train/stop_sign/00002_00019.ppm  \n",
            "  inflating: GTRSB_data/GTSRB_data/train/stop_sign/00002_00018.ppm  \n",
            "  inflating: GTRSB_data/GTSRB_data/train/stop_sign/00002_00017.ppm  \n",
            "  inflating: GTRSB_data/GTSRB_data/train/stop_sign/00002_00016.ppm  \n",
            "  inflating: GTRSB_data/GTSRB_data/train/stop_sign/00002_00015.ppm  \n",
            "  inflating: GTRSB_data/GTSRB_data/train/stop_sign/00002_00014.ppm  \n",
            "  inflating: GTRSB_data/GTSRB_data/train/stop_sign/00002_00013.ppm  \n",
            "  inflating: GTRSB_data/GTSRB_data/train/stop_sign/00002_00012.ppm  \n",
            "  inflating: GTRSB_data/GTSRB_data/train/stop_sign/00002_00011.ppm  \n",
            "  inflating: GTRSB_data/GTSRB_data/train/stop_sign/00002_00010.ppm  \n",
            "  inflating: GTRSB_data/GTSRB_data/train/stop_sign/00002_00009.ppm  \n",
            "  inflating: GTRSB_data/GTSRB_data/train/stop_sign/00002_00008.ppm  \n",
            "  inflating: GTRSB_data/GTSRB_data/train/stop_sign/00002_00007.ppm  \n",
            "  inflating: GTRSB_data/GTSRB_data/train/stop_sign/00002_00006.ppm  \n",
            "  inflating: GTRSB_data/GTSRB_data/train/stop_sign/00002_00005.ppm  \n",
            "  inflating: GTRSB_data/GTSRB_data/train/stop_sign/00002_00004.ppm  \n",
            "  inflating: GTRSB_data/GTSRB_data/train/stop_sign/00002_00003.ppm  \n",
            "  inflating: GTRSB_data/GTSRB_data/train/stop_sign/00002_00002.ppm  \n",
            "  inflating: GTRSB_data/GTSRB_data/train/stop_sign/00002_00001.ppm  \n",
            "  inflating: GTRSB_data/GTSRB_data/train/stop_sign/00002_00000.ppm  \n",
            "  inflating: GTRSB_data/GTSRB_data/train/stop_sign/00001_00029.ppm  \n",
            "  inflating: GTRSB_data/GTSRB_data/train/stop_sign/00001_00028.ppm  \n",
            "  inflating: GTRSB_data/GTSRB_data/train/stop_sign/00001_00027.ppm  \n",
            "  inflating: GTRSB_data/GTSRB_data/train/stop_sign/00001_00026.ppm  \n",
            "  inflating: GTRSB_data/GTSRB_data/train/stop_sign/00001_00025.ppm  \n",
            "  inflating: GTRSB_data/GTSRB_data/train/stop_sign/00001_00024.ppm  \n",
            "  inflating: GTRSB_data/GTSRB_data/train/stop_sign/00001_00023.ppm  \n",
            "  inflating: GTRSB_data/GTSRB_data/train/stop_sign/00001_00022.ppm  \n",
            "  inflating: GTRSB_data/GTSRB_data/train/stop_sign/00001_00021.ppm  \n",
            "  inflating: GTRSB_data/GTSRB_data/train/stop_sign/00001_00020.ppm  \n",
            "  inflating: GTRSB_data/GTSRB_data/train/stop_sign/00001_00019.ppm  \n",
            "  inflating: GTRSB_data/GTSRB_data/train/stop_sign/00001_00018.ppm  \n",
            "  inflating: GTRSB_data/GTSRB_data/train/stop_sign/00001_00017.ppm  \n",
            "  inflating: GTRSB_data/GTSRB_data/train/stop_sign/00001_00016.ppm  \n",
            "  inflating: GTRSB_data/GTSRB_data/train/stop_sign/00001_00015.ppm  \n",
            "  inflating: GTRSB_data/GTSRB_data/train/stop_sign/00001_00014.ppm  \n",
            "  inflating: GTRSB_data/GTSRB_data/train/stop_sign/00001_00013.ppm  \n",
            "  inflating: GTRSB_data/GTSRB_data/train/stop_sign/00001_00012.ppm  \n",
            "  inflating: GTRSB_data/GTSRB_data/train/stop_sign/00001_00011.ppm  \n",
            "  inflating: GTRSB_data/GTSRB_data/train/stop_sign/00001_00010.ppm  \n",
            "  inflating: GTRSB_data/GTSRB_data/train/stop_sign/00001_00009.ppm  \n",
            "  inflating: GTRSB_data/GTSRB_data/train/stop_sign/00001_00008.ppm  \n",
            "  inflating: GTRSB_data/GTSRB_data/train/stop_sign/00001_00007.ppm  \n",
            "  inflating: GTRSB_data/GTSRB_data/train/stop_sign/00001_00006.ppm  \n",
            "  inflating: GTRSB_data/GTSRB_data/train/stop_sign/00001_00005.ppm  \n",
            "  inflating: GTRSB_data/GTSRB_data/train/stop_sign/00001_00004.ppm  \n",
            "  inflating: GTRSB_data/GTSRB_data/train/stop_sign/00001_00003.ppm  \n",
            "  inflating: GTRSB_data/GTSRB_data/train/stop_sign/00001_00002.ppm  \n",
            "  inflating: GTRSB_data/GTSRB_data/train/stop_sign/00001_00001.ppm  \n",
            "  inflating: GTRSB_data/GTSRB_data/train/stop_sign/00001_00000.ppm  \n",
            "  inflating: GTRSB_data/GTSRB_data/train/stop_sign/00000_00029.ppm  \n",
            "  inflating: GTRSB_data/GTSRB_data/train/stop_sign/00000_00028.ppm  \n",
            "  inflating: GTRSB_data/GTSRB_data/train/stop_sign/00000_00027.ppm  \n",
            "  inflating: GTRSB_data/GTSRB_data/train/stop_sign/00000_00026.ppm  \n",
            "  inflating: GTRSB_data/GTSRB_data/train/stop_sign/00000_00025.ppm  \n",
            "  inflating: GTRSB_data/GTSRB_data/train/stop_sign/00000_00024.ppm  \n",
            "  inflating: GTRSB_data/GTSRB_data/train/stop_sign/00000_00023.ppm  \n",
            "  inflating: GTRSB_data/GTSRB_data/train/stop_sign/00000_00022.ppm  \n",
            "  inflating: GTRSB_data/GTSRB_data/train/stop_sign/00000_00021.ppm  \n",
            "  inflating: GTRSB_data/GTSRB_data/train/stop_sign/00000_00020.ppm  \n",
            "  inflating: GTRSB_data/GTSRB_data/train/stop_sign/00000_00019.ppm  \n",
            "  inflating: GTRSB_data/GTSRB_data/train/stop_sign/00000_00018.ppm  \n",
            "  inflating: GTRSB_data/GTSRB_data/train/stop_sign/00000_00017.ppm  \n",
            "  inflating: GTRSB_data/GTSRB_data/train/stop_sign/00000_00016.ppm  \n",
            "  inflating: GTRSB_data/GTSRB_data/train/stop_sign/00000_00015.ppm  \n",
            "  inflating: GTRSB_data/GTSRB_data/train/stop_sign/00000_00014.ppm  \n",
            "  inflating: GTRSB_data/GTSRB_data/train/stop_sign/00000_00013.ppm  \n",
            "  inflating: GTRSB_data/GTSRB_data/train/stop_sign/00000_00012.ppm  \n",
            "  inflating: GTRSB_data/GTSRB_data/train/stop_sign/00000_00011.ppm  \n",
            "  inflating: GTRSB_data/GTSRB_data/train/stop_sign/00000_00010.ppm  \n",
            "  inflating: GTRSB_data/GTSRB_data/train/stop_sign/00000_00009.ppm  \n",
            "  inflating: GTRSB_data/GTSRB_data/train/stop_sign/00000_00008.ppm  \n",
            "  inflating: GTRSB_data/GTSRB_data/train/stop_sign/00000_00007.ppm  \n",
            "  inflating: GTRSB_data/GTSRB_data/train/stop_sign/00000_00006.ppm  \n",
            "  inflating: GTRSB_data/GTSRB_data/train/stop_sign/00000_00005.ppm  \n",
            "  inflating: GTRSB_data/GTSRB_data/train/stop_sign/00000_00004.ppm  \n",
            "  inflating: GTRSB_data/GTSRB_data/train/stop_sign/00000_00003.ppm  \n",
            "  inflating: GTRSB_data/GTSRB_data/train/stop_sign/00000_00002.ppm  \n",
            "  inflating: GTRSB_data/GTSRB_data/train/stop_sign/00000_00001.ppm  \n",
            "  inflating: GTRSB_data/GTSRB_data/train/stop_sign/00000_00000.ppm  \n"
          ],
          "name": "stdout"
        }
      ]
    },
    {
      "cell_type": "markdown",
      "metadata": {
        "id": "LqothHZkfmwS",
        "colab_type": "text"
      },
      "source": [
        "Load Data\n",
        "---------\n",
        "\n",
        "We will use torchvision and torch.utils.data packages for loading the\n",
        "data.\n",
        "\n",
        "The problem we're going to solve today is to train a model to classify\n",
        "**ants** and **bees**. We have about 120 training images each for ants and bees.\n",
        "There are 75 validation images for each class. Usually, this is a very\n",
        "small dataset to generalize upon, if trained from scratch. Since we\n",
        "are using transfer learning, we should be able to generalize reasonably\n",
        "well.\n",
        "\n",
        "This dataset is a very small subset of imagenet.\n",
        "\n",
        ".. Note ::\n",
        "   Download the data from\n",
        "   `here <https://download.pytorch.org/tutorial/hymenoptera_data.zip>`_\n",
        "   and extract it to the current directory.\n",
        "\n"
      ]
    },
    {
      "cell_type": "code",
      "metadata": {
        "id": "KwavxQYTfmwT",
        "colab_type": "code",
        "colab": {}
      },
      "source": [
        "data_transforms = {\n",
        "    'train': transforms.Compose([\n",
        "        transforms.RandomResizedCrop(224),\n",
        "        transforms.RandomHorizontalFlip(),\n",
        "        transforms.ToTensor(),\n",
        "        transforms.Normalize([0.485, 0.456, 0.406], [0.229, 0.224, 0.225])\n",
        "    ]),\n",
        "    'val': transforms.Compose([\n",
        "        transforms.Resize(256),\n",
        "        transforms.CenterCrop(224),\n",
        "        transforms.ToTensor(),\n",
        "        transforms.Normalize([0.485, 0.456, 0.406], [0.229, 0.224, 0.225])\n",
        "    ]),\n",
        "}\n",
        "\n",
        "data_dir = '/content/GTRSB_data/GTSRB_data'\n",
        "image_datasets = {x: datasets.ImageFolder(os.path.join(data_dir, x),\n",
        "                                          data_transforms[x])\n",
        "                  for x in ['train', 'val']}\n",
        "dataloaders = {x: torch.utils.data.DataLoader(image_datasets[x], batch_size=4,\n",
        "                                             shuffle=True, num_workers=4)\n",
        "              for x in ['train', 'val']}\n",
        "dataset_sizes = {x: len(image_datasets[x]) for x in ['train', 'val']}\n",
        "class_names = image_datasets['train'].classes\n",
        "\n",
        "device = torch.device(\"cuda:0\" if torch.cuda.is_available() else \"cpu\")  "
      ],
      "execution_count": 0,
      "outputs": []
    },
    {
      "cell_type": "markdown",
      "metadata": {
        "id": "WfwKaFGrfmwW",
        "colab_type": "text"
      },
      "source": [
        "Visualize a few images\n",
        "^^^^^^^^^^^^^^^^^^^^^^\n",
        "Let's visualize a few training images so as to understand the data\n",
        "augmentations.\n",
        "\n"
      ]
    },
    {
      "cell_type": "code",
      "metadata": {
        "id": "LtLnW946fmwX",
        "colab_type": "code",
        "outputId": "1cacfd4a-c056-47fa-b635-e2a9fa09e472",
        "colab": {
          "base_uri": "https://localhost:8080/",
          "height": 148
        }
      },
      "source": [
        "def imshow(inp, title=None):\n",
        "    \"\"\"Imshow for Tensor.\"\"\"\n",
        "    inp = inp.numpy().transpose((1, 2, 0))\n",
        "    mean = np.array([0.485, 0.456, 0.406])\n",
        "    std = np.array([0.229, 0.224, 0.225])\n",
        "    inp = std * inp + mean\n",
        "    inp = np.clip(inp, 0, 1)\n",
        "    plt.imshow(inp)\n",
        "    if title is not None:\n",
        "        plt.title(title)\n",
        "    plt.pause(0.001) \n",
        "\n",
        "\n",
        "\n",
        "inputs, classes = next(iter(dataloaders['train']))\n",
        "\n",
        "\n",
        "out = torchvision.utils.make_grid(inputs)\n",
        "\n",
        "imshow(out, title=[class_names[x] for x in classes])"
      ],
      "execution_count": 17,
      "outputs": [
        {
          "output_type": "display_data",
          "data": {
            "image/png": "[encoded data removed]",
            "text/plain": [
              "<Figure size 432x288 with 1 Axes>"
            ]
          },
          "metadata": {
            "tags": []
          }
        }
      ]
    },
    {
      "cell_type": "markdown",
      "metadata": {
        "id": "uXdO8Za7fmwa",
        "colab_type": "text"
      },
      "source": [
        "Training the model\n",
        "------------------\n",
        "\n",
        "Now, let's write a general function to train a model. Here, we will\n",
        "illustrate:\n",
        "\n",
        "-  Scheduling the learning rate\n",
        "-  Saving the best model\n",
        "\n",
        "In the following, parameter ``scheduler`` is an LR scheduler object from\n",
        "``torch.optim.lr_scheduler``.\n",
        "\n"
      ]
    },
    {
      "cell_type": "code",
      "metadata": {
        "id": "n54h4p8Mfmwc",
        "colab_type": "code",
        "colab": {}
      },
      "source": [
        "def train_model(model, criterion, optimizer, scheduler, num_epochs=25):\n",
        "    since = time.time()\n",
        "\n",
        "    best_model_wts = copy.deepcopy(model.state_dict())\n",
        "    best_acc = 0.0\n",
        "\n",
        "    for epoch in range(num_epochs):\n",
        "        print('Epoch {}/{}'.format(epoch, num_epochs - 1))\n",
        "        print('-' * 10)\n",
        "\n",
        "      \n",
        "        for phase in ['train', 'val']:\n",
        "            if phase == 'train':\n",
        "                scheduler.step()\n",
        "                model.train()  \n",
        "            else:\n",
        "                model.eval()  \n",
        "\n",
        "            running_loss = 0.0\n",
        "            running_corrects = 0\n",
        "\n",
        "          \n",
        "            for inputs, labels in dataloaders[phase]:\n",
        "                inputs = inputs.to(device)\n",
        "                labels = labels.to(device)\n",
        "\n",
        "                \n",
        "                optimizer.zero_grad()\n",
        "\n",
        "              \n",
        "                \n",
        "                with torch.set_grad_enabled(phase == 'train'):\n",
        "                    outputs = model(inputs)\n",
        "                    _, preds = torch.max(outputs, 1)\n",
        "                    loss = criterion(outputs, labels)\n",
        "\n",
        "                    \n",
        "                    if phase == 'train':\n",
        "                        loss.backward()\n",
        "                        optimizer.step()\n",
        "\n",
        "                \n",
        "                running_loss += loss.item() * inputs.size(0)\n",
        "                running_corrects += torch.sum(preds == labels.data)\n",
        "\n",
        "            epoch_loss = running_loss / dataset_sizes[phase]\n",
        "            epoch_acc = running_corrects.double() / dataset_sizes[phase]\n",
        "\n",
        "            print('{} Loss: {:.4f} Acc: {:.4f}'.format(\n",
        "                phase, epoch_loss, epoch_acc))\n",
        "\n",
        "            \n",
        "            if phase == 'val' and epoch_acc > best_acc:\n",
        "                best_acc = epoch_acc\n",
        "                best_model_wts = copy.deepcopy(model.state_dict())\n",
        "\n",
        "        print()\n",
        "\n",
        "    time_elapsed = time.time() - since\n",
        "    print('Training complete in {:.0f}m {:.0f}s'.format(\n",
        "        time_elapsed // 60, time_elapsed % 60))\n",
        "    print('Best val Acc: {:4f}'.format(best_acc))\n",
        "\n",
        "    \n",
        "    model.load_state_dict(best_model_wts)\n",
        "    return model"
      ],
      "execution_count": 0,
      "outputs": []
    },
    {
      "cell_type": "markdown",
      "metadata": {
        "id": "Y7YXP7_Gfmwg",
        "colab_type": "text"
      },
      "source": [
        "Visualizing the model predictions\n",
        "^^^^^^^^^^^^^^^^^^^^^^^^^^^^^^^^^\n",
        "\n",
        "Generic function to display predictions for a few images\n",
        "\n",
        "\n"
      ]
    },
    {
      "cell_type": "code",
      "metadata": {
        "id": "WYRz12yefmwh",
        "colab_type": "code",
        "colab": {}
      },
      "source": [
        "def visualize_model(model, num_images=6):\n",
        "    was_training = model.training\n",
        "    model.eval()\n",
        "    images_so_far = 0\n",
        "    fig = plt.figure()\n",
        "\n",
        "    with torch.no_grad():\n",
        "        for i, (inputs, labels) in enumerate(dataloaders['val']):\n",
        "            inputs = inputs.to(device)\n",
        "            labels = labels.to(device)\n",
        "\n",
        "            outputs = model(inputs)\n",
        "            _, preds = torch.max(outputs, 1)\n",
        "\n",
        "            for j in range(inputs.size()[0]):\n",
        "                images_so_far += 1\n",
        "                ax = plt.subplot(num_images//2, 2, images_so_far)\n",
        "                ax.axis('off')\n",
        "                ax.set_title('predicted: {}'.format(class_names[preds[j]]))\n",
        "                imshow(inputs.cpu().data[j])\n",
        "\n",
        "                if images_so_far == num_images:\n",
        "                    model.train(mode=was_training)\n",
        "                    return\n",
        "        model.train(mode=was_training)"
      ],
      "execution_count": 0,
      "outputs": []
    },
    {
      "cell_type": "markdown",
      "metadata": {
        "id": "nSqbPEy_fmwk",
        "colab_type": "text"
      },
      "source": [
        "Finetuning the convnet\n",
        "----------------------\n",
        "\n",
        "Load a pretrained model and reset final fully connected layer.\n",
        "\n",
        "\n"
      ]
    },
    {
      "cell_type": "code",
      "metadata": {
        "id": "kRs0Rfewfmwl",
        "colab_type": "code",
        "outputId": "c88c9be5-3047-4524-a0c7-33ca3be867e3",
        "colab": {
          "base_uri": "https://localhost:8080/",
          "height": 51
        }
      },
      "source": [
        "model_ft = models.resnet18(pretrained=True)\n",
        "num_ftrs = model_ft.fc.in_features\n",
        "model_ft.fc = nn.Linear(num_ftrs, 2)\n",
        "\n",
        "model_ft = model_ft.to(device)\n",
        "\n",
        "criterion = nn.CrossEntropyLoss()\n",
        "\n",
        "\n",
        "optimizer_ft = optim.SGD(model_ft.parameters(), lr=0.001, momentum=0.9)\n",
        "\n",
        "\n",
        "exp_lr_scheduler = lr_scheduler.StepLR(optimizer_ft, step_size=7, gamma=0.1)"
      ],
      "execution_count": 20,
      "outputs": [
        {
          "output_type": "stream",
          "text": [
            "Downloading: \"https://download.pytorch.org/models/resnet18-5c106cde.pth\" to /root/.cache/torch/checkpoints/resnet18-5c106cde.pth\n",
            "100%|██████████| 44.7M/44.7M [00:00<00:00, 203MB/s]\n"
          ],
          "name": "stderr"
        }
      ]
    },
    {
      "cell_type": "markdown",
      "metadata": {
        "id": "xbZvp7lXfmwo",
        "colab_type": "text"
      },
      "source": [
        "Train and evaluate\n",
        "^^^^^^^^^^^^^^^^^^\n",
        "\n",
        "It should take around 15-25 min on CPU. On GPU though, it takes less than a\n",
        "minute.\n",
        "\n",
        "\n"
      ]
    },
    {
      "cell_type": "code",
      "metadata": {
        "id": "YwTR8_hyfmws",
        "colab_type": "code",
        "outputId": "da59eb06-3874-4e15-b805-e8e636422178",
        "colab": {
          "base_uri": "https://localhost:8080/",
          "height": 1000
        }
      },
      "source": [
        "model_ft = train_model(model_ft, criterion, optimizer_ft, exp_lr_scheduler,\n",
        "                       num_epochs=25)"
      ],
      "execution_count": 21,
      "outputs": [
        {
          "output_type": "stream",
          "text": [
            "Epoch 0/24\n",
            "----------\n"
          ],
          "name": "stdout"
        },
        {
          "output_type": "stream",
          "text": [
            "/usr/local/lib/python3.6/dist-packages/torch/optim/lr_scheduler.py:100: UserWarning: Detected call of `lr_scheduler.step()` before `optimizer.step()`. In PyTorch 1.1.0 and later, you should call them in the opposite order: `optimizer.step()` before `lr_scheduler.step()`.  Failure to do this will result in PyTorch skipping the first value of the learning rate schedule.See more details at https://pytorch.org/docs/stable/optim.html#how-to-adjust-learning-rate\n",
            "  \"https://pytorch.org/docs/stable/optim.html#how-to-adjust-learning-rate\", UserWarning)\n"
          ],
          "name": "stderr"
        },
        {
          "output_type": "stream",
          "text": [
            "train Loss: 0.3449 Acc: 0.8238\n",
            "val Loss: 0.0219 Acc: 1.0000\n",
            "\n",
            "Epoch 1/24\n",
            "----------\n",
            "train Loss: 0.2277 Acc: 0.9016\n",
            "val Loss: 0.0032 Acc: 1.0000\n",
            "\n",
            "Epoch 2/24\n",
            "----------\n",
            "train Loss: 0.3514 Acc: 0.8770\n",
            "val Loss: 0.0016 Acc: 1.0000\n",
            "\n",
            "Epoch 3/24\n",
            "----------\n",
            "train Loss: 0.3746 Acc: 0.8730\n",
            "val Loss: 0.0008 Acc: 1.0000\n",
            "\n",
            "Epoch 4/24\n",
            "----------\n",
            "train Loss: 0.2249 Acc: 0.9139\n",
            "val Loss: 0.0058 Acc: 1.0000\n",
            "\n",
            "Epoch 5/24\n",
            "----------\n",
            "train Loss: 0.2760 Acc: 0.9262\n",
            "val Loss: 0.0795 Acc: 1.0000\n",
            "\n",
            "Epoch 6/24\n",
            "----------\n",
            "train Loss: 0.5105 Acc: 0.8934\n",
            "val Loss: 0.0008 Acc: 1.0000\n",
            "\n",
            "Epoch 7/24\n",
            "----------\n",
            "train Loss: 0.1327 Acc: 0.9508\n",
            "val Loss: 0.0013 Acc: 1.0000\n",
            "\n",
            "Epoch 8/24\n",
            "----------\n",
            "train Loss: 0.1847 Acc: 0.9221\n",
            "val Loss: 0.0008 Acc: 1.0000\n",
            "\n",
            "Epoch 9/24\n",
            "----------\n",
            "train Loss: 0.1910 Acc: 0.9221\n",
            "val Loss: 0.0008 Acc: 1.0000\n",
            "\n",
            "Epoch 10/24\n",
            "----------\n",
            "train Loss: 0.2265 Acc: 0.9098\n",
            "val Loss: 0.0011 Acc: 1.0000\n",
            "\n",
            "Epoch 11/24\n",
            "----------\n",
            "train Loss: 0.1128 Acc: 0.9508\n",
            "val Loss: 0.0007 Acc: 1.0000\n",
            "\n",
            "Epoch 12/24\n",
            "----------\n",
            "train Loss: 0.0985 Acc: 0.9549\n",
            "val Loss: 0.0004 Acc: 1.0000\n",
            "\n",
            "Epoch 13/24\n",
            "----------\n",
            "train Loss: 0.1412 Acc: 0.9385\n",
            "val Loss: 0.0006 Acc: 1.0000\n",
            "\n",
            "Epoch 14/24\n",
            "----------\n",
            "train Loss: 0.1742 Acc: 0.9180\n",
            "val Loss: 0.0006 Acc: 1.0000\n",
            "\n",
            "Epoch 15/24\n",
            "----------\n",
            "train Loss: 0.1382 Acc: 0.9508\n",
            "val Loss: 0.0013 Acc: 1.0000\n",
            "\n",
            "Epoch 16/24\n",
            "----------\n",
            "train Loss: 0.1254 Acc: 0.9549\n",
            "val Loss: 0.0007 Acc: 1.0000\n",
            "\n",
            "Epoch 17/24\n",
            "----------\n",
            "train Loss: 0.1196 Acc: 0.9426\n",
            "val Loss: 0.0007 Acc: 1.0000\n",
            "\n",
            "Epoch 18/24\n",
            "----------\n",
            "train Loss: 0.0790 Acc: 0.9672\n",
            "val Loss: 0.0012 Acc: 1.0000\n",
            "\n",
            "Epoch 19/24\n",
            "----------\n",
            "train Loss: 0.2140 Acc: 0.9180\n",
            "val Loss: 0.0005 Acc: 1.0000\n",
            "\n",
            "Epoch 20/24\n",
            "----------\n",
            "train Loss: 0.1096 Acc: 0.9549\n",
            "val Loss: 0.0012 Acc: 1.0000\n",
            "\n",
            "Epoch 21/24\n",
            "----------\n",
            "train Loss: 0.1533 Acc: 0.9426\n",
            "val Loss: 0.0007 Acc: 1.0000\n",
            "\n",
            "Epoch 22/24\n",
            "----------\n",
            "train Loss: 0.1129 Acc: 0.9467\n",
            "val Loss: 0.0009 Acc: 1.0000\n",
            "\n",
            "Epoch 23/24\n",
            "----------\n",
            "train Loss: 0.2297 Acc: 0.9016\n",
            "val Loss: 0.0008 Acc: 1.0000\n",
            "\n",
            "Epoch 24/24\n",
            "----------\n",
            "train Loss: 0.1353 Acc: 0.9262\n",
            "val Loss: 0.0009 Acc: 1.0000\n",
            "\n",
            "Training complete in 0m 58s\n",
            "Best val Acc: 1.000000\n"
          ],
          "name": "stdout"
        }
      ]
    },
    {
      "cell_type": "code",
      "metadata": {
        "id": "z43Cbx0Kfmwx",
        "colab_type": "code",
        "outputId": "93b1fadc-7205-4571-fb95-7731eae6aec5",
        "colab": {
          "base_uri": "https://localhost:8080/",
          "height": 581
        }
      },
      "source": [
        "visualize_model(model_ft)"
      ],
      "execution_count": 22,
      "outputs": [
        {
          "output_type": "display_data",
          "data": {
            "image/png": "[encoded data removed]",
            "text/plain": [
              "<Figure size 432x288 with 1 Axes>"
            ]
          },
          "metadata": {
            "tags": []
          }
        },
        {
          "output_type": "display_data",
          "data": {
            "image/png": "[encoded data removed]",
            "text/plain": [
              "<Figure size 432x288 with 1 Axes>"
            ]
          },
          "metadata": {
            "tags": []
          }
        },
        {
          "output_type": "display_data",
          "data": {
            "image/png": "[encoded data removed]",
            "text/plain": [
              "<Figure size 432x288 with 1 Axes>"
            ]
          },
          "metadata": {
            "tags": []
          }
        },
        {
          "output_type": "display_data",
          "data": {
            "image/png": "[encoded data removed]",
            "text/plain": [
              "<Figure size 432x288 with 1 Axes>"
            ]
          },
          "metadata": {
            "tags": []
          }
        },
        {
          "output_type": "display_data",
          "data": {
            "image/png": "[encoded data removed]",
            "text/plain": [
              "<Figure size 432x288 with 1 Axes>"
            ]
          },
          "metadata": {
            "tags": []
          }
        },
        {
          "output_type": "display_data",
          "data": {
            "image/png": "[encoded data removed]",
            "text/plain": [
              "<Figure size 432x288 with 1 Axes>"
            ]
          },
          "metadata": {
            "tags": []
          }
        }
      ]
    },
    {
      "cell_type": "markdown",
      "metadata": {
        "id": "pg_eqcx7fmw0",
        "colab_type": "text"
      },
      "source": [
        "ConvNet as fixed feature extractor\n",
        "----------------------------------\n",
        "\n",
        "Here, we need to freeze all the network except the final layer. We need\n",
        "to set ``requires_grad == False`` to freeze the parameters so that the\n",
        "gradients are not computed in ``backward()``.\n",
        "\n",
        "You can read more about this in the documentation\n",
        "`here <http://pytorch.org/docs/notes/autograd.html#excluding-subgraphs-from-backward>`__.\n",
        "\n",
        "\n"
      ]
    },
    {
      "cell_type": "code",
      "metadata": {
        "id": "pdbGofLZfmw2",
        "colab_type": "code",
        "colab": {}
      },
      "source": [
        "model_conv = torchvision.models.resnet18(pretrained=True)\n",
        "for param in model_conv.parameters():\n",
        "    param.requires_grad = False\n",
        "\n",
        "\n",
        "num_ftrs = model_conv.fc.in_features\n",
        "model_conv.fc = nn.Linear(num_ftrs, 2)\n",
        "\n",
        "model_conv = model_conv.to(device)\n",
        "\n",
        "criterion = nn.CrossEntropyLoss()\n",
        "\n",
        "\n",
        "optimizer_conv = optim.SGD(model_conv.fc.parameters(), lr=0.001, momentum=0.9)\n",
        "\n",
        "\n",
        "exp_lr_scheduler = lr_scheduler.StepLR(optimizer_conv, step_size=7, gamma=0.1)"
      ],
      "execution_count": 0,
      "outputs": []
    },
    {
      "cell_type": "markdown",
      "metadata": {
        "id": "J7HTaN0Ufmw5",
        "colab_type": "text"
      },
      "source": [
        "Train and evaluate\n",
        "^^^^^^^^^^^^^^^^^^\n",
        "\n",
        "On CPU this will take about half the time compared to previous scenario.\n",
        "This is expected as gradients don't need to be computed for most of the\n",
        "network. However, forward does need to be computed.\n",
        "\n",
        "\n"
      ]
    },
    {
      "cell_type": "code",
      "metadata": {
        "id": "vaxKAiKTfmw6",
        "colab_type": "code",
        "outputId": "59053153-8574-464c-a026-982e05edee42",
        "colab": {
          "base_uri": "https://localhost:8080/",
          "height": 1000
        }
      },
      "source": [
        "model_conv = train_model(model_conv, criterion, optimizer_conv,\n",
        "                         exp_lr_scheduler, num_epochs=50)"
      ],
      "execution_count": 28,
      "outputs": [
        {
          "output_type": "stream",
          "text": [
            "Epoch 0/49\n",
            "----------\n",
            "train Loss: 0.1925 Acc: 0.9262\n",
            "val Loss: 0.0304 Acc: 0.9933\n",
            "\n",
            "Epoch 1/49\n",
            "----------\n",
            "train Loss: 0.1909 Acc: 0.9426\n",
            "val Loss: 0.0386 Acc: 0.9867\n",
            "\n",
            "Epoch 2/49\n",
            "----------\n",
            "train Loss: 0.1727 Acc: 0.9344\n",
            "val Loss: 0.0552 Acc: 1.0000\n",
            "\n",
            "Epoch 3/49\n",
            "----------\n",
            "train Loss: 0.2865 Acc: 0.8607\n",
            "val Loss: 0.0304 Acc: 0.9867\n",
            "\n",
            "Epoch 4/49\n",
            "----------\n",
            "train Loss: 0.2979 Acc: 0.8607\n",
            "val Loss: 0.0449 Acc: 1.0000\n",
            "\n",
            "Epoch 5/49\n",
            "----------\n",
            "train Loss: 0.2607 Acc: 0.8852\n",
            "val Loss: 0.0303 Acc: 0.9933\n",
            "\n",
            "Epoch 6/49\n",
            "----------\n",
            "train Loss: 0.1971 Acc: 0.8934\n",
            "val Loss: 0.0218 Acc: 1.0000\n",
            "\n",
            "Epoch 7/49\n",
            "----------\n",
            "train Loss: 0.1669 Acc: 0.9262\n",
            "val Loss: 0.0261 Acc: 0.9933\n",
            "\n",
            "Epoch 8/49\n",
            "----------\n",
            "train Loss: 0.1962 Acc: 0.9016\n",
            "val Loss: 0.0267 Acc: 1.0000\n",
            "\n",
            "Epoch 9/49\n",
            "----------\n",
            "train Loss: 0.1801 Acc: 0.9180\n",
            "val Loss: 0.0357 Acc: 0.9933\n",
            "\n",
            "Epoch 10/49\n",
            "----------\n",
            "train Loss: 0.2520 Acc: 0.8770\n",
            "val Loss: 0.0292 Acc: 0.9867\n",
            "\n",
            "Epoch 11/49\n",
            "----------\n",
            "train Loss: 0.2866 Acc: 0.8648\n",
            "val Loss: 0.0609 Acc: 0.9800\n",
            "\n",
            "Epoch 12/49\n",
            "----------\n",
            "train Loss: 0.1825 Acc: 0.9385\n",
            "val Loss: 0.0298 Acc: 0.9867\n",
            "\n",
            "Epoch 13/49\n",
            "----------\n",
            "train Loss: 0.2139 Acc: 0.9180\n",
            "val Loss: 0.0346 Acc: 1.0000\n",
            "\n",
            "Epoch 14/49\n",
            "----------\n",
            "train Loss: 0.1857 Acc: 0.9098\n",
            "val Loss: 0.0320 Acc: 1.0000\n",
            "\n",
            "Epoch 15/49\n",
            "----------\n",
            "train Loss: 0.1794 Acc: 0.9344\n",
            "val Loss: 0.0314 Acc: 1.0000\n",
            "\n",
            "Epoch 16/49\n",
            "----------\n",
            "train Loss: 0.1271 Acc: 0.9426\n",
            "val Loss: 0.0381 Acc: 0.9867\n",
            "\n",
            "Epoch 17/49\n",
            "----------\n",
            "train Loss: 0.2002 Acc: 0.9221\n",
            "val Loss: 0.0341 Acc: 1.0000\n",
            "\n",
            "Epoch 18/49\n",
            "----------\n",
            "train Loss: 0.2158 Acc: 0.9139\n",
            "val Loss: 0.0283 Acc: 1.0000\n",
            "\n",
            "Epoch 19/49\n",
            "----------\n",
            "train Loss: 0.1782 Acc: 0.9221\n",
            "val Loss: 0.0355 Acc: 1.0000\n",
            "\n",
            "Epoch 20/49\n",
            "----------\n",
            "train Loss: 0.3285 Acc: 0.8443\n",
            "val Loss: 0.0302 Acc: 0.9933\n",
            "\n",
            "Epoch 21/49\n",
            "----------\n",
            "train Loss: 0.2399 Acc: 0.8934\n",
            "val Loss: 0.0355 Acc: 0.9800\n",
            "\n",
            "Epoch 22/49\n",
            "----------\n",
            "train Loss: 0.2659 Acc: 0.9016\n",
            "val Loss: 0.0385 Acc: 1.0000\n",
            "\n",
            "Epoch 23/49\n",
            "----------\n",
            "train Loss: 0.2893 Acc: 0.8648\n",
            "val Loss: 0.0384 Acc: 0.9800\n",
            "\n",
            "Epoch 24/49\n",
            "----------\n",
            "train Loss: 0.2125 Acc: 0.9057\n",
            "val Loss: 0.0490 Acc: 0.9933\n",
            "\n",
            "Epoch 25/49\n",
            "----------\n",
            "train Loss: 0.1499 Acc: 0.9426\n",
            "val Loss: 0.0402 Acc: 0.9800\n",
            "\n",
            "Epoch 26/49\n",
            "----------\n",
            "train Loss: 0.2187 Acc: 0.9098\n",
            "val Loss: 0.0370 Acc: 0.9933\n",
            "\n",
            "Epoch 27/49\n",
            "----------\n",
            "train Loss: 0.2537 Acc: 0.9057\n",
            "val Loss: 0.0464 Acc: 1.0000\n",
            "\n",
            "Epoch 28/49\n",
            "----------\n",
            "train Loss: 0.2577 Acc: 0.8852\n",
            "val Loss: 0.0303 Acc: 0.9933\n",
            "\n",
            "Epoch 29/49\n",
            "----------\n",
            "train Loss: 0.2848 Acc: 0.8770\n",
            "val Loss: 0.0419 Acc: 1.0000\n",
            "\n",
            "Epoch 30/49\n",
            "----------\n",
            "train Loss: 0.2126 Acc: 0.9180\n",
            "val Loss: 0.0270 Acc: 0.9933\n",
            "\n",
            "Epoch 31/49\n",
            "----------\n",
            "train Loss: 0.1763 Acc: 0.9385\n",
            "val Loss: 0.0395 Acc: 1.0000\n",
            "\n",
            "Epoch 32/49\n",
            "----------\n",
            "train Loss: 0.1651 Acc: 0.9385\n",
            "val Loss: 0.0300 Acc: 1.0000\n",
            "\n",
            "Epoch 33/49\n",
            "----------\n",
            "train Loss: 0.1797 Acc: 0.9344\n",
            "val Loss: 0.0293 Acc: 0.9867\n",
            "\n",
            "Epoch 34/49\n",
            "----------\n",
            "train Loss: 0.2446 Acc: 0.8934\n",
            "val Loss: 0.0327 Acc: 0.9867\n",
            "\n",
            "Epoch 35/49\n",
            "----------\n",
            "train Loss: 0.1653 Acc: 0.9385\n",
            "val Loss: 0.0375 Acc: 0.9867\n",
            "\n",
            "Epoch 36/49\n",
            "----------\n",
            "train Loss: 0.1921 Acc: 0.9098\n",
            "val Loss: 0.0463 Acc: 0.9733\n",
            "\n",
            "Epoch 37/49\n",
            "----------\n",
            "train Loss: 0.2071 Acc: 0.9221\n",
            "val Loss: 0.0439 Acc: 0.9933\n",
            "\n",
            "Epoch 38/49\n",
            "----------\n",
            "train Loss: 0.2254 Acc: 0.9180\n",
            "val Loss: 0.0266 Acc: 0.9867\n",
            "\n",
            "Epoch 39/49\n",
            "----------\n",
            "train Loss: 0.2256 Acc: 0.9016\n",
            "val Loss: 0.0516 Acc: 1.0000\n",
            "\n",
            "Epoch 40/49\n",
            "----------\n",
            "train Loss: 0.2585 Acc: 0.8730\n",
            "val Loss: 0.0443 Acc: 0.9800\n",
            "\n",
            "Epoch 41/49\n",
            "----------\n",
            "train Loss: 0.1422 Acc: 0.9549\n",
            "val Loss: 0.0325 Acc: 0.9867\n",
            "\n",
            "Epoch 42/49\n",
            "----------\n",
            "train Loss: 0.1758 Acc: 0.9303\n",
            "val Loss: 0.0261 Acc: 1.0000\n",
            "\n",
            "Epoch 43/49\n",
            "----------\n",
            "train Loss: 0.2472 Acc: 0.8811\n",
            "val Loss: 0.0301 Acc: 1.0000\n",
            "\n",
            "Epoch 44/49\n",
            "----------\n",
            "train Loss: 0.2131 Acc: 0.9180\n",
            "val Loss: 0.0340 Acc: 1.0000\n",
            "\n",
            "Epoch 45/49\n",
            "----------\n",
            "train Loss: 0.1703 Acc: 0.9426\n",
            "val Loss: 0.0277 Acc: 1.0000\n",
            "\n",
            "Epoch 46/49\n",
            "----------\n",
            "train Loss: 0.1728 Acc: 0.9508\n",
            "val Loss: 0.0336 Acc: 0.9867\n",
            "\n",
            "Epoch 47/49\n",
            "----------\n",
            "train Loss: 0.2166 Acc: 0.9016\n",
            "val Loss: 0.0420 Acc: 0.9800\n",
            "\n",
            "Epoch 48/49\n",
            "----------\n",
            "train Loss: 0.3420 Acc: 0.8320\n",
            "val Loss: 0.0335 Acc: 0.9933\n",
            "\n",
            "Epoch 49/49\n",
            "----------\n",
            "train Loss: 0.3303 Acc: 0.8648\n",
            "val Loss: 0.0335 Acc: 0.9867\n",
            "\n",
            "Training complete in 1m 29s\n",
            "Best val Acc: 1.000000\n"
          ],
          "name": "stdout"
        }
      ]
    },
    {
      "cell_type": "code",
      "metadata": {
        "id": "ndyPc7qZfmw9",
        "colab_type": "code",
        "outputId": "e12f5fad-44a0-4ed6-df9a-9d1fb6cdbc9d",
        "colab": {
          "base_uri": "https://localhost:8080/",
          "height": 581
        }
      },
      "source": [
        "visualize_model(model_conv)\n",
        "\n",
        "plt.ioff()\n",
        "plt.show()"
      ],
      "execution_count": 29,
      "outputs": [
        {
          "output_type": "display_data",
          "data": {
            "image/png": "[encoded data removed]",
            "text/plain": [
              "<Figure size 432x288 with 1 Axes>"
            ]
          },
          "metadata": {
            "tags": []
          }
        },
        {
          "output_type": "display_data",
          "data": {
            "image/png": "[encoded data removed]",
            "text/plain": [
              "<Figure size 432x288 with 1 Axes>"
            ]
          },
          "metadata": {
            "tags": []
          }
        },
        {
          "output_type": "display_data",
          "data": {
            "image/png": "[encoded data removed]",
            "text/plain": [
              "<Figure size 432x288 with 1 Axes>"
            ]
          },
          "metadata": {
            "tags": []
          }
        },
        {
          "output_type": "display_data",
          "data": {
            "image/png": "[encoded data removed]",
            "text/plain": [
              "<Figure size 432x288 with 1 Axes>"
            ]
          },
          "metadata": {
            "tags": []
          }
        },
        {
          "output_type": "display_data",
          "data": {
            "image/png": "[encoded data removed]",
            "text/plain": [
              "<Figure size 432x288 with 1 Axes>"
            ]
          },
          "metadata": {
            "tags": []
          }
        },
        {
          "output_type": "display_data",
          "data": {
            "image/png": "[encoded data removed]",
            "text/plain": [
              "<Figure size 432x288 with 1 Axes>"
            ]
          },
          "metadata": {
            "tags": []
          }
        }
      ]
    },
    {
      "cell_type": "code",
      "metadata": {
        "id": "gj7vIMGVtmWP",
        "colab_type": "code",
        "colab": {}
      },
      "source": [
        ""
      ],
      "execution_count": 0,
      "outputs": []
    }
  ]
}